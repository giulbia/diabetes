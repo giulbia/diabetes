{
 "cells": [
  {
   "cell_type": "markdown",
   "metadata": {},
   "source": [
    "# Diabetes dataset"
   ]
  },
  {
   "cell_type": "code",
   "execution_count": 5,
   "metadata": {
    "collapsed": true
   },
   "outputs": [],
   "source": [
    "import os\n",
    "import warnings\n",
    "import sys\n",
    "\n",
    "import pandas as pd\n",
    "import numpy as np\n",
    "from sklearn.metrics import mean_squared_error, mean_absolute_error, r2_score\n",
    "from sklearn.model_selection import train_test_split, GridSearchCV\n",
    "from sklearn.linear_model import ElasticNet\n",
    "from sklearn.decomposition import PCA\n",
    "from sklearn.pipeline import Pipeline\n",
    "from sklearn import datasets\n",
    "\n",
    "import mlflow\n",
    "import mlflow.sklearn"
   ]
  },
  {
   "cell_type": "markdown",
   "metadata": {},
   "source": [
    "## Data preparation"
   ]
  },
  {
   "cell_type": "code",
   "execution_count": 1,
   "metadata": {
    "collapsed": true
   },
   "outputs": [],
   "source": [
    "# Load Diabetes datasets\n",
    "diabetes = datasets.load_diabetes()\n",
    "X = diabetes.data\n",
    "y = diabetes.target\n",
    "\n",
    "# Create pandas DataFrame for sklearn ElasticNet linear_model\n",
    "Y = np.array([y]).transpose()\n",
    "d = np.concatenate((X, Y), axis=1)\n",
    "cols = ['age', 'sex', 'bmi', 'bp', 's1', 's2', 's3', 's4', 's5', 's6', 'progression']\n",
    "data = pd.DataFrame(d, columns=cols)\n",
    "\n",
    "# Evaluate metrics\n",
    "def eval_metrics(actual, pred):\n",
    "    rmse = np.sqrt(mean_squared_error(actual, pred))\n",
    "    mae = mean_absolute_error(actual, pred)\n",
    "    r2 = r2_score(actual, pred)\n",
    "    return rmse, mae, r2\n",
    "\n",
    "warnings.filterwarnings(\"ignore\")\n",
    "np.random.seed(40)\n",
    "\n",
    "# Split the data into training and test sets. (0.75, 0.25) split.\n",
    "train, test = train_test_split(data)\n",
    "\n",
    "# The predicted column is \"progression\" which is a quantitative measure of disease progression one year after baseline\n",
    "train_x = train.drop([\"progression\"], axis=1)\n",
    "test_x = test.drop([\"progression\"], axis=1)\n",
    "train_y = train[[\"progression\"]]\n",
    "test_y = test[[\"progression\"]]"
   ]
  },
  {
   "cell_type": "markdown",
   "metadata": {},
   "source": [
    "## Demo without MLflow"
   ]
  },
  {
   "cell_type": "code",
   "execution_count": 6,
   "metadata": {
    "collapsed": false
   },
   "outputs": [
    {
     "name": "stdout",
     "output_type": "stream",
     "text": [
      "Elasticnet model (alpha=0.010000, l1_ratio=0.250000):\n",
      "  RMSE: 69.95922060492441\n",
      "  MAE: 58.727387642314135\n",
      "  R2: 0.259985752578914\n"
     ]
    }
   ],
   "source": [
    "# alpha is the penalisation - l1_ratio = 1 is the lasso penalty - l1_ratio = 0 is the ridge penalty\n",
    "lr = ElasticNet(alpha=0.01, l1_ratio=0.25, random_state=42)\n",
    "lr.fit(train_x, train_y)\n",
    "\n",
    "predicted_qualities = lr.predict(test_x)\n",
    "\n",
    "(rmse, mae, r2) = eval_metrics(test_y, predicted_qualities)\n",
    "\n",
    "# Print out ElasticNet model metrics\n",
    "print(\"Elasticnet model (alpha=%f, l1_ratio=%f):\" % (0.01, 0.25))\n",
    "print(\"  RMSE: %s\" % rmse)\n",
    "print(\"  MAE: %s\" % mae)\n",
    "print(\"  R2: %s\" % r2)\n"
   ]
  },
  {
   "cell_type": "code",
   "execution_count": 7,
   "metadata": {
    "collapsed": false
   },
   "outputs": [
    {
     "name": "stdout",
     "output_type": "stream",
     "text": [
      "Elasticnet model (alpha=0.010000, l1_ratio=0.500000):\n",
      "  RMSE: 67.98354871814037\n",
      "  MAE: 56.73838604280737\n",
      "  R2: 0.30119208073981807\n"
     ]
    }
   ],
   "source": [
    "# alpha is the penalisation - l1_ratio = 1 is the lasso penalty - l1_ratio = 0 is the ridge penalty\n",
    "lr = ElasticNet(alpha=0.01, l1_ratio=0.5, random_state=42)\n",
    "lr.fit(train_x, train_y)\n",
    "\n",
    "predicted_qualities = lr.predict(test_x)\n",
    "\n",
    "(rmse, mae, r2) = eval_metrics(test_y, predicted_qualities)\n",
    "\n",
    "# Print out ElasticNet model metrics\n",
    "print(\"Elasticnet model (alpha=%f, l1_ratio=%f):\" % (0.01, 0.5))\n",
    "print(\"  RMSE: %s\" % rmse)\n",
    "print(\"  MAE: %s\" % mae)\n",
    "print(\"  R2: %s\" % r2)\n"
   ]
  },
  {
   "cell_type": "code",
   "execution_count": 8,
   "metadata": {
    "collapsed": false
   },
   "outputs": [
    {
     "name": "stdout",
     "output_type": "stream",
     "text": [
      "Elasticnet model (alpha=0.010000, l1_ratio=0.750000):\n",
      "  RMSE: 65.28994906390733\n",
      "  MAE: 53.75914828434926\n",
      "  R2: 0.35547047607749416\n"
     ]
    }
   ],
   "source": [
    "# alpha is the penalisation - l1_ratio = 1 is the lasso penalty - l1_ratio = 0 is the ridge penalty\n",
    "lr = ElasticNet(alpha=0.01, l1_ratio=0.75, random_state=42)\n",
    "lr.fit(train_x, train_y)\n",
    "\n",
    "predicted_qualities = lr.predict(test_x)\n",
    "\n",
    "(rmse, mae, r2) = eval_metrics(test_y, predicted_qualities)\n",
    "\n",
    "# Print out ElasticNet model metrics\n",
    "print(\"Elasticnet model (alpha=%f, l1_ratio=%f):\" % (0.01, 0.75))\n",
    "print(\"  RMSE: %s\" % rmse)\n",
    "print(\"  MAE: %s\" % mae)\n",
    "print(\"  R2: %s\" % r2)\n"
   ]
  },
  {
   "cell_type": "code",
   "execution_count": 9,
   "metadata": {
    "collapsed": false
   },
   "outputs": [
    {
     "name": "stdout",
     "output_type": "stream",
     "text": [
      "Elasticnet model (alpha=0.001000, l1_ratio=0.500000):\n",
      "  RMSE: 63.01112461968615\n",
      "  MAE: 50.87364330131877\n",
      "  R2: 0.3996775038471697\n"
     ]
    }
   ],
   "source": [
    "# alpha is the penalisation - l1_ratio = 1 is the lasso penalty - l1_ratio = 0 is the ridge penalty\n",
    "lr = ElasticNet(alpha=0.001, l1_ratio=0.5, random_state=42)\n",
    "lr.fit(train_x, train_y)\n",
    "\n",
    "predicted_qualities = lr.predict(test_x)\n",
    "\n",
    "(rmse, mae, r2) = eval_metrics(test_y, predicted_qualities)\n",
    "\n",
    "# Print out ElasticNet model metrics\n",
    "print(\"Elasticnet model (alpha=%f, l1_ratio=%f):\" % (0.001, 0.5))\n",
    "print(\"  RMSE: %s\" % rmse)\n",
    "print(\"  MAE: %s\" % mae)\n",
    "print(\"  R2: %s\" % r2)\n"
   ]
  },
  {
   "cell_type": "code",
   "execution_count": null,
   "metadata": {
    "collapsed": true
   },
   "outputs": [],
   "source": []
  },
  {
   "cell_type": "code",
   "execution_count": null,
   "metadata": {
    "collapsed": true
   },
   "outputs": [],
   "source": []
  },
  {
   "cell_type": "markdown",
   "metadata": {},
   "source": [
    "## Demo with MLflow"
   ]
  },
  {
   "cell_type": "code",
   "execution_count": 10,
   "metadata": {
    "collapsed": true
   },
   "outputs": [],
   "source": [
    "def train_diabetes(in_alpha, in_l1_ratio):\n",
    "    \n",
    "    if float(in_alpha) is None:\n",
    "        alpha = 0.05\n",
    "    else:\n",
    "        alpha = float(in_alpha)\n",
    "    \n",
    "    if float(in_l1_ratio) is None:\n",
    "        l1_ratio = 0.05\n",
    "    else:\n",
    "        l1_ratio = float(in_l1_ratio)\n",
    "  \n",
    "    # Start an MLflow run; the \"with\" keyword ensures we'll close the run even if this cell crashes\n",
    "    with mlflow.start_run():\n",
    "        lr = ElasticNet(alpha=alpha, l1_ratio=l1_ratio, random_state=42)\n",
    "        lr.fit(train_x, train_y)\n",
    "\n",
    "        predicted_qualities = lr.predict(test_x)\n",
    "\n",
    "        (rmse, mae, r2) = eval_metrics(test_y, predicted_qualities)\n",
    "\n",
    "        # Print out ElasticNet model metrics\n",
    "        print(\"Elasticnet model (alpha=%f, l1_ratio=%f):\" % (alpha, l1_ratio))\n",
    "        print(\"  RMSE: %s\" % rmse)\n",
    "        print(\"  MAE: %s\" % mae)\n",
    "        print(\"  R2: %s\" % r2)\n",
    "\n",
    "        # Log mlflow attributes for mlflow UI\n",
    "        mlflow.log_param(\"alpha\", alpha)\n",
    "        mlflow.log_param(\"l1_ratio\", l1_ratio)\n",
    "        mlflow.log_metric(\"rmse\", rmse)\n",
    "        mlflow.log_metric(\"r2\", r2)\n",
    "        mlflow.log_metric(\"mae\", mae)\n",
    "        mlflow.sklearn.log_model(lr, \"model\")\n"
   ]
  },
  {
   "cell_type": "code",
   "execution_count": 11,
   "metadata": {
    "collapsed": false
   },
   "outputs": [
    {
     "name": "stdout",
     "output_type": "stream",
     "text": [
      "Elasticnet model (alpha=0.001000, l1_ratio=1.000000):\n",
      "  RMSE: 63.27750123317956\n",
      "  MAE: 50.92096285436428\n",
      "  R2: 0.39459110411953346\n"
     ]
    }
   ],
   "source": [
    "train_diabetes(0.001, 1)"
   ]
  },
  {
   "cell_type": "code",
   "execution_count": 12,
   "metadata": {
    "collapsed": false
   },
   "outputs": [
    {
     "name": "stdout",
     "output_type": "stream",
     "text": [
      "Elasticnet model (alpha=0.001000, l1_ratio=0.250000):\n",
      "  RMSE: 63.1646599850253\n",
      "  MAE: 51.05887951773729\n",
      "  R2: 0.39674840116161647\n"
     ]
    }
   ],
   "source": [
    "train_diabetes(0.001, 0.25)"
   ]
  },
  {
   "cell_type": "code",
   "execution_count": 13,
   "metadata": {
    "collapsed": false
   },
   "outputs": [
    {
     "name": "stdout",
     "output_type": "stream",
     "text": [
      "Elasticnet model (alpha=0.001000, l1_ratio=0.500000):\n",
      "  RMSE: 63.01112461968615\n",
      "  MAE: 50.87364330131877\n",
      "  R2: 0.3996775038471697\n"
     ]
    }
   ],
   "source": [
    "train_diabetes(0.001, 0.5)"
   ]
  },
  {
   "cell_type": "code",
   "execution_count": 14,
   "metadata": {
    "collapsed": false
   },
   "outputs": [
    {
     "name": "stdout",
     "output_type": "stream",
     "text": [
      "Elasticnet model (alpha=0.001000, l1_ratio=0.750000):\n",
      "  RMSE: 63.000141912875\n",
      "  MAE: 50.92666300886525\n",
      "  R2: 0.39988675551248043\n"
     ]
    }
   ],
   "source": [
    "train_diabetes(0.001, 0.75)"
   ]
  },
  {
   "cell_type": "code",
   "execution_count": 15,
   "metadata": {
    "collapsed": false
   },
   "outputs": [
    {
     "name": "stdout",
     "output_type": "stream",
     "text": [
      "Elasticnet model (alpha=0.001000, l1_ratio=0.000000):\n",
      "  RMSE: 63.39890631425896\n",
      "  MAE: 51.32389750703385\n",
      "  R2: 0.39226578395239375\n"
     ]
    }
   ],
   "source": [
    "train_diabetes(0.001, 0)"
   ]
  },
  {
   "cell_type": "code",
   "execution_count": 16,
   "metadata": {
    "collapsed": false
   },
   "outputs": [
    {
     "name": "stdout",
     "output_type": "stream",
     "text": [
      "Elasticnet model (alpha=0.010000, l1_ratio=1.000000):\n",
      "  RMSE: 63.24666777876805\n",
      "  MAE: 51.051828604086325\n",
      "  R2: 0.3951809598912357\n"
     ]
    }
   ],
   "source": [
    "train_diabetes(0.01, 1)"
   ]
  },
  {
   "cell_type": "code",
   "execution_count": 17,
   "metadata": {
    "collapsed": false
   },
   "outputs": [
    {
     "name": "stdout",
     "output_type": "stream",
     "text": [
      "Elasticnet model (alpha=0.010000, l1_ratio=0.250000):\n",
      "  RMSE: 69.95922060492441\n",
      "  MAE: 58.727387642314135\n",
      "  R2: 0.259985752578914\n"
     ]
    }
   ],
   "source": [
    "train_diabetes(0.01, 0.25)"
   ]
  },
  {
   "cell_type": "code",
   "execution_count": 18,
   "metadata": {
    "collapsed": false
   },
   "outputs": [
    {
     "name": "stdout",
     "output_type": "stream",
     "text": [
      "Elasticnet model (alpha=0.010000, l1_ratio=0.500000):\n",
      "  RMSE: 67.98354871814037\n",
      "  MAE: 56.73838604280737\n",
      "  R2: 0.30119208073981807\n"
     ]
    }
   ],
   "source": [
    "train_diabetes(0.01, 0.5)"
   ]
  },
  {
   "cell_type": "code",
   "execution_count": 19,
   "metadata": {
    "collapsed": false
   },
   "outputs": [
    {
     "name": "stdout",
     "output_type": "stream",
     "text": [
      "Elasticnet model (alpha=0.010000, l1_ratio=0.750000):\n",
      "  RMSE: 65.28994906390733\n",
      "  MAE: 53.75914828434926\n",
      "  R2: 0.35547047607749416\n"
     ]
    }
   ],
   "source": [
    "train_diabetes(0.01, 0.75)"
   ]
  },
  {
   "cell_type": "code",
   "execution_count": 20,
   "metadata": {
    "collapsed": false
   },
   "outputs": [
    {
     "name": "stdout",
     "output_type": "stream",
     "text": [
      "Elasticnet model (alpha=0.010000, l1_ratio=0.000000):\n",
      "  RMSE: 71.45646564111745\n",
      "  MAE: 60.13924795969087\n",
      "  R2: 0.22797170223391094\n"
     ]
    }
   ],
   "source": [
    "train_diabetes(0.01, 0)"
   ]
  },
  {
   "cell_type": "code",
   "execution_count": null,
   "metadata": {
    "collapsed": true
   },
   "outputs": [],
   "source": []
  },
  {
   "cell_type": "markdown",
   "metadata": {},
   "source": [
    "## Pipeline, GridSearch & Cross validation  - without MLflow"
   ]
  },
  {
   "cell_type": "code",
   "execution_count": 18,
   "metadata": {
    "collapsed": false
   },
   "outputs": [
    {
     "name": "stdout",
     "output_type": "stream",
     "text": [
      "Elasticnet model (alpha=0.001, l1_ratio=1):\n",
      "  RMSE: 67.98354871814037\n",
      "  MAE: 56.73838604280737\n",
      "  R2: 0.30119208073981807\n"
     ]
    }
   ],
   "source": [
    "lr = ElasticNet(random_state=42)\n",
    "\n",
    "# GridSearch\n",
    "param_grid = [{'alpha': np.logspace(-3, 3, 7),\n",
    "               'l1_ratio': [1, 0.25, 0.5, 0,75, 0],\n",
    "               }]\n",
    "\n",
    "estimator = GridSearchCV(lr, param_grid, cv=5, scoring='neg_mean_squared_error')\n",
    "\n",
    "estimator.fit(train_x, train_y)\n",
    "\n",
    "predicted_qualities = estimator.predict(test_x)\n",
    "\n",
    "# Print out ElasticNet model metrics\n",
    "print(\"Elasticnet model (alpha={}, l1_ratio={}):\".format(estimator.best_params_['alpha'], \n",
    "                                                          estimator.best_params_['l1_ratio']))\n",
    "print(\"  RMSE: %s\" % rmse)\n",
    "print(\"  MAE: %s\" % mae)\n",
    "print(\"  R2: %s\" % r2)"
   ]
  },
  {
   "cell_type": "code",
   "execution_count": 20,
   "metadata": {
    "collapsed": false
   },
   "outputs": [
    {
     "name": "stdout",
     "output_type": "stream",
     "text": [
      "Elasticnet model (alpha=0.001, l1_ratio=1, tol=1e-05):\n",
      "  RMSE: 67.98354871814037\n",
      "  MAE: 56.73838604280737\n",
      "  R2: 0.30119208073981807\n"
     ]
    }
   ],
   "source": [
    "lr = ElasticNet(random_state=42)\n",
    "\n",
    "# GridSearch\n",
    "param_grid = [{'alpha': np.logspace(-3, 3, 7),\n",
    "               'l1_ratio': [1, 0.25, 0.5, 0,75, 0],\n",
    "               'tol': [0.00001, 0.0001, 0.001]\n",
    "               }]\n",
    "\n",
    "estimator = GridSearchCV(lr, param_grid, cv=5, scoring='neg_mean_squared_error')\n",
    "\n",
    "estimator.fit(train_x, train_y)\n",
    "\n",
    "predicted_qualities = estimator.predict(test_x)\n",
    "\n",
    "# Print out ElasticNet model metrics\n",
    "print(\"Elasticnet model (alpha={}, l1_ratio={}, tol={}):\".format(estimator.best_params_['alpha'], \n",
    "                                                                 estimator.best_params_['l1_ratio'],\n",
    "                                                                 estimator.best_params_['tol']))\n",
    "print(\"  RMSE: %s\" % rmse)\n",
    "print(\"  MAE: %s\" % mae)\n",
    "print(\"  R2: %s\" % r2)"
   ]
  },
  {
   "cell_type": "markdown",
   "metadata": {},
   "source": [
    "### With PCA"
   ]
  },
  {
   "cell_type": "code",
   "execution_count": 25,
   "metadata": {
    "collapsed": false
   },
   "outputs": [
    {
     "name": "stdout",
     "output_type": "stream",
     "text": [
      "Elasticnet model (n_components=4, alpha=0.001, l1_ratio=1):\n",
      "  RMSE: 67.98354871814037\n",
      "  MAE: 56.73838604280737\n",
      "  R2: 0.30119208073981807\n"
     ]
    }
   ],
   "source": [
    "pipeline = Pipeline([\n",
    "    ('pca', PCA(random_state=42)),\n",
    "    ('lr', ElasticNet(random_state=42))\n",
    "])\n",
    "\n",
    "# GridSearch\n",
    "param_grid = [{'pca__n_components': [2, 3, 4, 5],\n",
    "               'lr__alpha': np.logspace(-3, 3, 7),\n",
    "               'lr__l1_ratio': [1, 0.25, 0.5, 0,75, 0],\n",
    "               }]\n",
    "\n",
    "estimator = GridSearchCV(pipeline, param_grid, cv=5, scoring='neg_mean_squared_error')\n",
    "\n",
    "estimator.fit(train_x, train_y)\n",
    "\n",
    "predicted_qualities = estimator.predict(test_x)\n",
    "\n",
    "# Print out ElasticNet model metrics\n",
    "print(\"Elasticnet model (n_components={}, alpha={}, l1_ratio={}):\".format(estimator.best_params_['pca__n_components'], \n",
    "                                                                          estimator.best_params_['lr__alpha'],\n",
    "                                                                          estimator.best_params_['lr__l1_ratio']))\n",
    "print(\"  RMSE: %s\" % rmse)\n",
    "print(\"  MAE: %s\" % mae)\n",
    "print(\"  R2: %s\" % r2)"
   ]
  },
  {
   "cell_type": "markdown",
   "metadata": {},
   "source": [
    "## Pipeline, GridSearch & Cross validation  - with MLflow\n",
    "\n",
    "Not there yet!\n",
    "\n",
    "\n",
    "[Adding hyperparamters tracking example #326](https://github.com/mlflow/mlflow/issues/326)"
   ]
  },
  {
   "cell_type": "code",
   "execution_count": null,
   "metadata": {
    "collapsed": true
   },
   "outputs": [],
   "source": []
  },
  {
   "cell_type": "code",
   "execution_count": null,
   "metadata": {
    "collapsed": true
   },
   "outputs": [],
   "source": []
  },
  {
   "cell_type": "code",
   "execution_count": null,
   "metadata": {
    "collapsed": true
   },
   "outputs": [],
   "source": []
  },
  {
   "cell_type": "code",
   "execution_count": 27,
   "metadata": {
    "collapsed": true
   },
   "outputs": [],
   "source": [
    "def train_diabetes(in_alpha, in_l1_ratio):\n",
    "    \n",
    "    if float(in_alpha) is None:\n",
    "        alpha = 0.05\n",
    "    else:\n",
    "        alpha = float(in_alpha)\n",
    "    \n",
    "    if float(in_l1_ratio) is None:\n",
    "        l1_ratio = 0.05\n",
    "    else:\n",
    "        l1_ratio = float(in_l1_ratio)\n",
    "  \n",
    "    # Start an MLflow run; the \"with\" keyword ensures we'll close the run even if this cell crashes\n",
    "    with mlflow.start_run():\n",
    "        lr = ElasticNet(alpha=alpha, l1_ratio=l1_ratio, random_state=42)\n",
    "        lr.fit(train_x, train_y)\n",
    "\n",
    "        predicted_qualities = lr.predict(test_x)\n",
    "\n",
    "        (rmse, mae, r2) = eval_metrics(test_y, predicted_qualities)\n",
    "\n",
    "        # Print out ElasticNet model metrics\n",
    "        print(\"Elasticnet model (alpha=%f, l1_ratio=%f):\" % (alpha, l1_ratio))\n",
    "        print(\"  RMSE: %s\" % rmse)\n",
    "        print(\"  MAE: %s\" % mae)\n",
    "        print(\"  R2: %s\" % r2)\n",
    "\n",
    "        # Log mlflow attributes for mlflow UI\n",
    "        mlflow.log_param(\"alpha\", alpha)\n",
    "        mlflow.log_param(\"l1_ratio\", l1_ratio)\n",
    "        mlflow.log_metric(\"rmse\", rmse)\n",
    "        mlflow.log_metric(\"r2\", r2)\n",
    "        mlflow.log_metric(\"mae\", mae)\n",
    "        mlflow.sklearn.log_model(lr, \"model\")\n"
   ]
  },
  {
   "cell_type": "code",
   "execution_count": null,
   "metadata": {
    "collapsed": true
   },
   "outputs": [],
   "source": []
  },
  {
   "cell_type": "code",
   "execution_count": null,
   "metadata": {
    "collapsed": true
   },
   "outputs": [],
   "source": []
  }
 ],
 "metadata": {
  "kernelspec": {
   "display_name": "Python 2",
   "language": "python",
   "name": "python2"
  },
  "language_info": {
   "codemirror_mode": {
    "name": "ipython",
    "version": 2
   },
   "file_extension": ".py",
   "mimetype": "text/x-python",
   "name": "python",
   "nbconvert_exporter": "python",
   "pygments_lexer": "ipython2",
   "version": "2.7.13"
  },
  "name": "mlproject_diabetes",
  "notebookId": 73168
 },
 "nbformat": 4,
 "nbformat_minor": 0
}
