{
 "cells": [
  {
   "cell_type": "code",
   "execution_count": 11,
   "metadata": {
    "collapsed": true
   },
   "outputs": [],
   "source": [
    "# Import various libraries including matplotlib, sklearn, mlflow\n",
    "import os\n",
    "import warnings\n",
    "import sys\n",
    "\n",
    "import pandas as pd\n",
    "import numpy as np\n",
    "from itertools import cycle\n",
    "import matplotlib.pyplot as plt\n",
    "from sklearn.metrics import mean_squared_error, mean_absolute_error, r2_score\n",
    "from sklearn.model_selection import train_test_split\n",
    "from sklearn.linear_model import ElasticNet\n",
    "from sklearn.linear_model import lasso_path, enet_path\n",
    "from sklearn import datasets\n",
    "\n",
    "# Import mlflow\n",
    "import mlflow.sklearn\n",
    "\n",
    "\n",
    "def train_diabetes(in_alpha, in_l1_ratio):\n",
    "    \n",
    "    # Load Diabetes datasets\n",
    "    diabetes = datasets.load_diabetes()\n",
    "    X = diabetes.data\n",
    "    y = diabetes.target\n",
    "\n",
    "    # Create pandas DataFrame for sklearn ElasticNet linear_model\n",
    "    Y = np.array([y]).transpose()\n",
    "    d = np.concatenate((X, Y), axis=1)\n",
    "    cols = ['age', 'sex', 'bmi', 'bp', 's1', 's2', 's3', 's4', 's5', 's6', 'progression']\n",
    "    data = pd.DataFrame(d, columns=cols)\n",
    "\n",
    "    # train_diabetes\n",
    "    #   Uses the sklearn Diabetes dataset to predict diabetes progression using ElasticNet\n",
    "    #       The predicted \"progression\" column is a quantitative measure of disease progression one year after baseline\n",
    "    #       http://scikit-learn.org/stable/modules/generated/sklearn.datasets.load_diabetes.html\n",
    "\n",
    "    # Evaluate metrics\n",
    "    def eval_metrics(actual, pred):\n",
    "        rmse = np.sqrt(mean_squared_error(actual, pred))\n",
    "        mae = mean_absolute_error(actual, pred)\n",
    "        r2 = r2_score(actual, pred)\n",
    "        return rmse, mae, r2\n",
    "\n",
    "    warnings.filterwarnings(\"ignore\")\n",
    "    np.random.seed(40)\n",
    "\n",
    "    # Split the data into training and test sets. (0.75, 0.25) split.\n",
    "    train, test = train_test_split(data)\n",
    "\n",
    "    # The predicted column is \"progression\" which is a quantitative measure of disease progression one year after baseline\n",
    "    train_x = train.drop([\"progression\"], axis=1)\n",
    "    test_x = test.drop([\"progression\"], axis=1)\n",
    "    train_y = train[[\"progression\"]]\n",
    "    test_y = test[[\"progression\"]]\n",
    "\n",
    "    if float(in_alpha) is None:\n",
    "        alpha = 0.05\n",
    "    else:\n",
    "        alpha = float(in_alpha)\n",
    "    \n",
    "    if float(in_l1_ratio) is None:\n",
    "        l1_ratio = 0.05\n",
    "    else:\n",
    "        l1_ratio = float(in_l1_ratio)\n",
    "  \n",
    "    # Start an MLflow run; the \"with\" keyword ensures we'll close the run even if this cell crashes\n",
    "    with mlflow.start_run():\n",
    "        lr = ElasticNet(alpha=alpha, l1_ratio=l1_ratio, random_state=42)\n",
    "        lr.fit(train_x, train_y)\n",
    "\n",
    "        predicted_qualities = lr.predict(test_x)\n",
    "\n",
    "        (rmse, mae, r2) = eval_metrics(test_y, predicted_qualities)\n",
    "\n",
    "        # Print out ElasticNet model metrics\n",
    "        print(\"Elasticnet model (alpha=%f, l1_ratio=%f):\" % (alpha, l1_ratio))\n",
    "        print(\"  RMSE: %s\" % rmse)\n",
    "        print(\"  MAE: %s\" % mae)\n",
    "        print(\"  R2: %s\" % r2)\n",
    "\n",
    "        # Set tracking_URI first and then reset it back to not specifying port\n",
    "        # Note, we had specified this in an earlier cell\n",
    "        #mlflow.set_tracking_uri(mlflow_tracking_URI)\n",
    "        \n",
    "        # Log mlflow attributes for mlflow UI\n",
    "        mlflow.log_param(\"alpha\", alpha)\n",
    "        mlflow.log_param(\"l1_ratio\", l1_ratio)\n",
    "        mlflow.log_metric(\"rmse\", rmse)\n",
    "        mlflow.log_metric(\"r2\", r2)\n",
    "        mlflow.log_metric(\"mae\", mae)\n",
    "        mlflow.sklearn.log_model(lr, \"model\")\n",
    "\n",
    "    \n",
    "#         # Call plot_enet_descent_path\n",
    "#         image = plot_enet_descent_path(X, y, l1_ratio)\n",
    "    \n",
    "#         # Log artifacts (output files)\n",
    "#         mlflow.log_artifact(\"ElasticNet-paths.png\")"
   ]
  },
  {
   "cell_type": "code",
   "execution_count": 12,
   "metadata": {
    "collapsed": false
   },
   "outputs": [
    {
     "name": "stdout",
     "output_type": "stream",
     "text": [
      "Elasticnet model (alpha=0.500000, l1_ratio=0.500000):\n",
      "  RMSE: 81.81926483955999\n",
      "  MAE: 69.22549116101793\n",
      "  R2: -0.012188274969180402\n"
     ]
    }
   ],
   "source": [
    "train_diabetes(0.5, 0.5)"
   ]
  },
  {
   "cell_type": "code",
   "execution_count": 13,
   "metadata": {
    "collapsed": false
   },
   "outputs": [
    {
     "name": "stdout",
     "output_type": "stream",
     "text": [
      "Elasticnet model (alpha=0.100000, l1_ratio=0.900000):\n",
      "  RMSE: 71.98302888908191\n",
      "  MAE: 60.5647520017933\n",
      "  R2: 0.2165516143465459\n"
     ]
    }
   ],
   "source": [
    "train_diabetes(0.1, 0.9)"
   ]
  },
  {
   "cell_type": "code",
   "execution_count": 14,
   "metadata": {
    "collapsed": false
   },
   "outputs": [
    {
     "name": "stdout",
     "output_type": "stream",
     "text": [
      "Elasticnet model (alpha=0.010000, l1_ratio=0.010000):\n",
      "  RMSE: 71.40362571026475\n",
      "  MAE: 60.09124839565383\n",
      "  R2: 0.2291130640003659\n"
     ]
    }
   ],
   "source": [
    "train_diabetes(0.01, 0.01)"
   ]
  },
  {
   "cell_type": "code",
   "execution_count": null,
   "metadata": {
    "collapsed": true
   },
   "outputs": [],
   "source": []
  }
 ],
 "metadata": {
  "kernelspec": {
   "display_name": "Python 2",
   "language": "python",
   "name": "python2"
  },
  "language_info": {
   "codemirror_mode": {
    "name": "ipython",
    "version": 2
   },
   "file_extension": ".py",
   "mimetype": "text/x-python",
   "name": "python",
   "nbconvert_exporter": "python",
   "pygments_lexer": "ipython2",
   "version": "2.7.13"
  },
  "name": "mlproject_diabetes",
  "notebookId": 73168
 },
 "nbformat": 4,
 "nbformat_minor": 0
}
